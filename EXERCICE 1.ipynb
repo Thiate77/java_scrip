{
 "cells": [
  {
   "cell_type": "markdown",
   "id": "76b42b3c",
   "metadata": {},
   "source": [
    "\n",
    "# 1.PREVOIR L'evaluation des expressions arithmetique"
   ]
  },
  {
   "cell_type": "code",
   "execution_count": 2,
   "id": "240aaddf",
   "metadata": {},
   "outputs": [
    {
     "data": {
      "text/plain": [
       "45"
      ]
     },
     "execution_count": 2,
     "metadata": {},
     "output_type": "execute_result"
    }
   ],
   "source": [
    "6*7+3"
   ]
  },
  {
   "cell_type": "code",
   "execution_count": 3,
   "id": "525de7f5",
   "metadata": {},
   "outputs": [
    {
     "data": {
      "text/plain": [
       "312"
      ]
     },
     "execution_count": 3,
     "metadata": {},
     "output_type": "execute_result"
    }
   ],
   "source": [
    "26*(7+5)"
   ]
  },
  {
   "cell_type": "code",
   "execution_count": 4,
   "id": "cb68dc79",
   "metadata": {},
   "outputs": [
    {
     "data": {
      "text/plain": [
       "49"
      ]
     },
     "execution_count": 4,
     "metadata": {},
     "output_type": "execute_result"
    }
   ],
   "source": [
    "343//7"
   ]
  },
  {
   "cell_type": "code",
   "execution_count": 5,
   "id": "549ab2a4",
   "metadata": {},
   "outputs": [
    {
     "data": {
      "text/plain": [
       "32"
      ]
     },
     "execution_count": 5,
     "metadata": {},
     "output_type": "execute_result"
    }
   ],
   "source": [
    "32*4//4"
   ]
  },
  {
   "cell_type": "code",
   "execution_count": 10,
   "id": "836f5629",
   "metadata": {},
   "outputs": [
    {
     "data": {
      "text/plain": [
       "144"
      ]
     },
     "execution_count": 10,
     "metadata": {},
     "output_type": "execute_result"
    }
   ],
   "source": [
    "6*(24//7)*8+45%9"
   ]
  },
  {
   "cell_type": "code",
   "execution_count": 11,
   "id": "ae3ca808",
   "metadata": {},
   "outputs": [
    {
     "data": {
      "text/plain": [
       "9"
      ]
     },
     "execution_count": 11,
     "metadata": {},
     "output_type": "execute_result"
    }
   ],
   "source": [
    "8*(1+2-3+4-5+6+7-8+9+10)//19"
   ]
  },
  {
   "cell_type": "markdown",
   "id": "091590e3",
   "metadata": {},
   "source": [
    "# faire les calcules suivants"
   ]
  },
  {
   "cell_type": "code",
   "execution_count": 1,
   "id": "b06f5476",
   "metadata": {},
   "outputs": [],
   "source": [
    "a=16\n",
    "b=5"
   ]
  },
  {
   "cell_type": "code",
   "execution_count": 2,
   "id": "58586aba",
   "metadata": {},
   "outputs": [
    {
     "data": {
      "text/plain": [
       "21"
      ]
     },
     "execution_count": 2,
     "metadata": {},
     "output_type": "execute_result"
    }
   ],
   "source": [
    "a+b"
   ]
  },
  {
   "cell_type": "code",
   "execution_count": 3,
   "id": "4c056a0d",
   "metadata": {},
   "outputs": [
    {
     "data": {
      "text/plain": [
       "11"
      ]
     },
     "execution_count": 3,
     "metadata": {},
     "output_type": "execute_result"
    }
   ],
   "source": [
    "a-b"
   ]
  },
  {
   "cell_type": "code",
   "execution_count": 4,
   "id": "095533b1",
   "metadata": {},
   "outputs": [
    {
     "data": {
      "text/plain": [
       "80"
      ]
     },
     "execution_count": 4,
     "metadata": {},
     "output_type": "execute_result"
    }
   ],
   "source": [
    "a*b"
   ]
  },
  {
   "cell_type": "code",
   "execution_count": 5,
   "id": "3dcf83d2",
   "metadata": {},
   "outputs": [
    {
     "data": {
      "text/plain": [
       "3.2"
      ]
     },
     "execution_count": 5,
     "metadata": {},
     "output_type": "execute_result"
    }
   ],
   "source": [
    "a/b"
   ]
  },
  {
   "cell_type": "code",
   "execution_count": 7,
   "id": "43a14bea",
   "metadata": {},
   "outputs": [
    {
     "data": {
      "text/plain": [
       "1"
      ]
     },
     "execution_count": 7,
     "metadata": {},
     "output_type": "execute_result"
    }
   ],
   "source": [
    "a%b"
   ]
  },
  {
   "cell_type": "code",
   "execution_count": 8,
   "id": "8916f0bf",
   "metadata": {},
   "outputs": [
    {
     "data": {
      "text/plain": [
       "3"
      ]
     },
     "execution_count": 8,
     "metadata": {},
     "output_type": "execute_result"
    }
   ],
   "source": [
    "a//b"
   ]
  },
  {
   "cell_type": "code",
   "execution_count": 9,
   "id": "09442e81",
   "metadata": {},
   "outputs": [
    {
     "name": "stdout",
     "output_type": "stream",
     "text": [
      "21 11 80 3.2 1 3\n"
     ]
    }
   ],
   "source": [
    "print(a+b,a-b,a*b,a/b,a%b,a//b)"
   ]
  },
  {
   "cell_type": "code",
   "execution_count": null,
   "id": "de339218",
   "metadata": {},
   "outputs": [],
   "source": []
  }
 ],
 "metadata": {
  "kernelspec": {
   "display_name": "Python 3",
   "language": "python",
   "name": "python3"
  },
  "language_info": {
   "codemirror_mode": {
    "name": "ipython",
    "version": 3
   },
   "file_extension": ".py",
   "mimetype": "text/x-python",
   "name": "python",
   "nbconvert_exporter": "python",
   "pygments_lexer": "ipython3",
   "version": "3.8.8"
  }
 },
 "nbformat": 4,
 "nbformat_minor": 5
}
